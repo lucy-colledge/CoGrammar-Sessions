{
 "cells": [
  {
   "cell_type": "code",
   "execution_count": null,
   "metadata": {
    "id": "h0LVvvnfJsg5"
   },
   "outputs": [],
   "source": [
    "# Import pandas"
   ]
  },
  {
   "cell_type": "code",
   "execution_count": 2,
   "metadata": {},
   "outputs": [],
   "source": [
    "import pandas as pd"
   ]
  },
  {
   "cell_type": "code",
   "execution_count": 3,
   "metadata": {
    "id": "rv2oLRnPK36J"
   },
   "outputs": [],
   "source": [
    "# Create a DataFrame with balance.txt"
   ]
  },
  {
   "cell_type": "code",
   "execution_count": 4,
   "metadata": {},
   "outputs": [],
   "source": [
    "df = pd.read_csv('balance.txt',sep=' ')"
   ]
  },
  {
   "cell_type": "markdown",
   "metadata": {
    "id": "_LXpBJXZLYoh"
   },
   "source": [
    "Write the code needed to produce a report that provides the following information:\n",
    "* Compare the average income based on ethnicity.\n",
    "* On average, do married or single people have a higher balance?\n",
    "* What is the highest income in our dataset?\n",
    "* What is the lowest income in our dataset?\n",
    "* How many cards do we have recorded in our dataset? (Hint: use `sum()`)\n",
    "* How many females do we have information for vs how many males? (Hint: use `count()` for a list of all methods for computation of descriptive stats, explore the [pandas documentation](https://pandas.pydata.org/pandas-docs/stable/reference/frame.html#computations-descriptive-stats)).\n",
    "\n",
    "\n"
   ]
  },
  {
   "cell_type": "code",
   "execution_count": 6,
   "metadata": {},
   "outputs": [
    {
     "name": "stdout",
     "output_type": "stream",
     "text": [
      "Index(['Balance', 'Income', 'Limit', 'Rating', 'Cards', 'Age', 'Education',\n",
      "       'Gender', 'Student', 'Married', 'Ethnicity'],\n",
      "      dtype='object')\n"
     ]
    }
   ],
   "source": [
    "print(df.columns)"
   ]
  },
  {
   "cell_type": "code",
   "execution_count": 11,
   "metadata": {},
   "outputs": [
    {
     "name": "stdout",
     "output_type": "stream",
     "text": [
      "Ethnicity\n",
      "African American    47.682101\n",
      "Asian               44.187833\n",
      "Caucasian           44.521945\n",
      "Name: Income, dtype: float64\n"
     ]
    }
   ],
   "source": [
    "#Average income based on ethnicity. \n",
    "#groupby ethnicity, return Income.mean\n",
    "print(df.groupby('Ethnicity')['Income'].mean())"
   ]
  },
  {
   "cell_type": "code",
   "execution_count": 34,
   "metadata": {},
   "outputs": [
    {
     "name": "stdout",
     "output_type": "stream",
     "text": [
      "The average balance for single people is £ 13.49\n",
      "The average balance for married people is £ 13.39\n",
      "On average single people have a higher balance\n"
     ]
    }
   ],
   "source": [
    "#Average married or single higher balance\n",
    "sin_mean_bal = df[df.Married == \"No\"].loc[:,\"Balance\"].mean()\n",
    "mar_mean_bal = df[df.Married == \"Yes\"].loc[:,\"Balance\"].mean()\n",
    "#use of round() function to tidy up data and match conventions of finance\n",
    "print(\"The average balance for single people is £\", round(sin_mean_bal,2))\n",
    "print(\"The average balance for married people is £\", round(mar_mean_bal,2))\n",
    "#summary statement\n",
    "if sin_mean_bal > mar_mean_bal :\n",
    "    print(\"On average single people have a higher balance\")\n",
    "else :\n",
    "    print(\"On average married people have a higher balance\")"
   ]
  },
  {
   "cell_type": "code",
   "execution_count": 35,
   "metadata": {},
   "outputs": [
    {
     "name": "stdout",
     "output_type": "stream",
     "text": [
      "The highest income is £ 186.63\n",
      "The lowest income is £ 10.35\n"
     ]
    }
   ],
   "source": [
    "#highest and lowest income\n",
    "highest_income = df.loc[:, \"Income\"].max()\n",
    "lowest_income = df.loc[:, \"Income\"].min()\n",
    "\n",
    "print(\"The highest income is £\", round(highest_income,2))\n",
    "print(\"The lowest income is £\", round(lowest_income,2))\n"
   ]
  },
  {
   "cell_type": "code",
   "execution_count": 43,
   "metadata": {},
   "outputs": [
    {
     "name": "stdout",
     "output_type": "stream",
     "text": [
      "There are 1183 cards in the dataset\n"
     ]
    }
   ],
   "source": [
    "#cards in dataset\n",
    "total_cards=(df.loc[:,\"Cards\"].sum())\n",
    "print(\"There are\", total_cards, \"cards in the dataset\")"
   ]
  },
  {
   "cell_type": "code",
   "execution_count": 62,
   "metadata": {},
   "outputs": [
    {
     "name": "stdout",
     "output_type": "stream",
     "text": [
      "There are 400 total card holders. \n",
      "207 of which are female, and 193 are male.\n",
      "Meaning 52% of card holders are female.\n"
     ]
    }
   ],
   "source": [
    "#How many females do we have information for vs how many males?\n",
    "#count females , count males\n",
    "total =df.Gender.count()\n",
    "females = df[df.Gender == \"Female\"].loc[:,\"Gender\"].count()\n",
    "males = df[df.Gender == \"Male\"].loc[:,\"Gender\"].count()\n",
    "percent_female = round((females / total)*100)\n",
    "print (f\"There are {total} total card holders. \\n{females} of which are female, and {males} are male.\\nMeaning {percent_female}% of card holders are female.\")"
   ]
  },
  {
   "cell_type": "code",
   "execution_count": null,
   "metadata": {},
   "outputs": [],
   "source": []
  }
 ],
 "metadata": {
  "colab": {
   "provenance": []
  },
  "kernelspec": {
   "display_name": "Python 3 (ipykernel)",
   "language": "python",
   "name": "python3"
  },
  "language_info": {
   "codemirror_mode": {
    "name": "ipython",
    "version": 3
   },
   "file_extension": ".py",
   "mimetype": "text/x-python",
   "name": "python",
   "nbconvert_exporter": "python",
   "pygments_lexer": "ipython3",
   "version": "3.12.2"
  }
 },
 "nbformat": 4,
 "nbformat_minor": 4
}
