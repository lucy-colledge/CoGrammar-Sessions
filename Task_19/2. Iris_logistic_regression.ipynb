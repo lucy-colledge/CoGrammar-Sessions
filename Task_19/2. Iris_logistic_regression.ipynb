{
 "cells": [
  {
   "cell_type": "markdown",
   "id": "3b1ad54f-7439-4d23-9d4c-919632ce6dc6",
   "metadata": {},
   "source": [
    "# Task 18\n",
    "## Practical Task"
   ]
  },
  {
   "cell_type": "code",
   "execution_count": 1,
   "id": "25df4852-9ba3-4425-be29-775980bea708",
   "metadata": {},
   "outputs": [],
   "source": [
    "# Import Libraries\n",
    "import numpy as np\n",
    "import pandas as pd\n",
    "import matplotlib.pyplot as plt\n",
    "from sklearn.model_selection import train_test_split\n",
    "from sklearn.linear_model import LogisticRegression\n",
    "from sklearn import preprocessing\n",
    "import seaborn as sns\n",
    "from sklearn.metrics import f1_score, precision_score, recall_score"
   ]
  },
  {
   "cell_type": "code",
   "execution_count": 2,
   "id": "a93bb3c6-323a-4028-a022-3742ed22347d",
   "metadata": {},
   "outputs": [],
   "source": [
    "# Read Iris.csv into jupyter Notebook\n",
    "df = pd.read_csv(\"Iris.csv\")"
   ]
  },
  {
   "cell_type": "code",
   "execution_count": 3,
   "id": "06b5ec48-a809-48e0-9b85-ed942d962d81",
   "metadata": {},
   "outputs": [
    {
     "data": {
      "text/plain": [
       "(150, 6)"
      ]
     },
     "execution_count": 3,
     "metadata": {},
     "output_type": "execute_result"
    }
   ],
   "source": [
    "df.shape"
   ]
  },
  {
   "cell_type": "code",
   "execution_count": 4,
   "id": "6e84c8c5-bd28-4f53-8c69-48d511692895",
   "metadata": {},
   "outputs": [
    {
     "data": {
      "text/plain": [
       "Index(['Id', 'SepalLengthCm', 'SepalWidthCm', 'PetalLengthCm', 'PetalWidthCm',\n",
       "       'Species'],\n",
       "      dtype='object')"
      ]
     },
     "execution_count": 4,
     "metadata": {},
     "output_type": "execute_result"
    }
   ],
   "source": [
    "df.columns"
   ]
  },
  {
   "cell_type": "code",
   "execution_count": 5,
   "id": "6c33e3ed-3fc3-4328-b9c8-f0bce882c9b8",
   "metadata": {},
   "outputs": [
    {
     "data": {
      "text/plain": [
       "Id                 int64\n",
       "SepalLengthCm    float64\n",
       "SepalWidthCm     float64\n",
       "PetalLengthCm    float64\n",
       "PetalWidthCm     float64\n",
       "Species           object\n",
       "dtype: object"
      ]
     },
     "execution_count": 5,
     "metadata": {},
     "output_type": "execute_result"
    }
   ],
   "source": [
    "df.dtypes"
   ]
  },
  {
   "cell_type": "code",
   "execution_count": 6,
   "id": "e058247d-ca9e-4891-ab6d-1fe679497484",
   "metadata": {},
   "outputs": [
    {
     "data": {
      "text/html": [
       "<div>\n",
       "<style scoped>\n",
       "    .dataframe tbody tr th:only-of-type {\n",
       "        vertical-align: middle;\n",
       "    }\n",
       "\n",
       "    .dataframe tbody tr th {\n",
       "        vertical-align: top;\n",
       "    }\n",
       "\n",
       "    .dataframe thead th {\n",
       "        text-align: right;\n",
       "    }\n",
       "</style>\n",
       "<table border=\"1\" class=\"dataframe\">\n",
       "  <thead>\n",
       "    <tr style=\"text-align: right;\">\n",
       "      <th></th>\n",
       "      <th>Id</th>\n",
       "      <th>SepalLengthCm</th>\n",
       "      <th>SepalWidthCm</th>\n",
       "      <th>PetalLengthCm</th>\n",
       "      <th>PetalWidthCm</th>\n",
       "      <th>Species</th>\n",
       "    </tr>\n",
       "  </thead>\n",
       "  <tbody>\n",
       "    <tr>\n",
       "      <th>0</th>\n",
       "      <td>1</td>\n",
       "      <td>5.1</td>\n",
       "      <td>3.5</td>\n",
       "      <td>1.4</td>\n",
       "      <td>0.2</td>\n",
       "      <td>Iris-setosa</td>\n",
       "    </tr>\n",
       "    <tr>\n",
       "      <th>1</th>\n",
       "      <td>2</td>\n",
       "      <td>4.9</td>\n",
       "      <td>3.0</td>\n",
       "      <td>1.4</td>\n",
       "      <td>0.2</td>\n",
       "      <td>Iris-setosa</td>\n",
       "    </tr>\n",
       "    <tr>\n",
       "      <th>2</th>\n",
       "      <td>3</td>\n",
       "      <td>4.7</td>\n",
       "      <td>3.2</td>\n",
       "      <td>1.3</td>\n",
       "      <td>0.2</td>\n",
       "      <td>Iris-setosa</td>\n",
       "    </tr>\n",
       "    <tr>\n",
       "      <th>3</th>\n",
       "      <td>4</td>\n",
       "      <td>4.6</td>\n",
       "      <td>3.1</td>\n",
       "      <td>1.5</td>\n",
       "      <td>0.2</td>\n",
       "      <td>Iris-setosa</td>\n",
       "    </tr>\n",
       "    <tr>\n",
       "      <th>4</th>\n",
       "      <td>5</td>\n",
       "      <td>5.0</td>\n",
       "      <td>3.6</td>\n",
       "      <td>1.4</td>\n",
       "      <td>0.2</td>\n",
       "      <td>Iris-setosa</td>\n",
       "    </tr>\n",
       "  </tbody>\n",
       "</table>\n",
       "</div>"
      ],
      "text/plain": [
       "   Id  SepalLengthCm  SepalWidthCm  PetalLengthCm  PetalWidthCm      Species\n",
       "0   1            5.1           3.5            1.4           0.2  Iris-setosa\n",
       "1   2            4.9           3.0            1.4           0.2  Iris-setosa\n",
       "2   3            4.7           3.2            1.3           0.2  Iris-setosa\n",
       "3   4            4.6           3.1            1.5           0.2  Iris-setosa\n",
       "4   5            5.0           3.6            1.4           0.2  Iris-setosa"
      ]
     },
     "execution_count": 6,
     "metadata": {},
     "output_type": "execute_result"
    }
   ],
   "source": [
    "df.head()"
   ]
  },
  {
   "cell_type": "markdown",
   "id": "551c2e0b-75a6-4f71-9dd7-3dd0db10d8ee",
   "metadata": {},
   "source": [
    "## This dataset consists of three classes of irises. The objective is to create a classifier that will predict whether an iris belongs to the **'Iris-setosa'** class or not\n",
    "### this mean that we have two classes: **'Iris-setosa'** and **not-'Iris-setosa'** (which includes **'Iris-versicolour'** and **'Iris-virginica'** <br>\n",
    "* Identify your independent variable X\n",
    "* Encode your dependent variable y such that **'Iris-setosa'** is encoded as **0** and **'Iris-versicolour'** and **'Iris-virginica'**are both encoded as **1**. (**0** corresponds to the **'Iris-setosa'**class and **1** corresponds to the **not-'Iris-setosa'** class)"
   ]
  },
  {
   "cell_type": "markdown",
   "id": "37baf449-4097-46e0-ae5c-aaf7e5279994",
   "metadata": {},
   "source": [
    "### Independent Variables \n",
    "* SepalLengthCm\n",
    "* SepalWidthCm\n",
    "* PetalLengthCm\n",
    "* PetalWidthCm\n",
    "\n",
    "### Dependent Variable\n",
    "* Species"
   ]
  },
  {
   "cell_type": "code",
   "execution_count": 7,
   "id": "5ff2a399-fe61-40de-a9a0-a817c50c7bdd",
   "metadata": {},
   "outputs": [],
   "source": [
    "df = df.drop(columns = ['Id'])"
   ]
  },
  {
   "cell_type": "code",
   "execution_count": 8,
   "id": "f3a1ceeb-ca36-4c45-abe3-d3efb96a2917",
   "metadata": {},
   "outputs": [],
   "source": [
    "df['Species1'] = df.loc[:, 'Species']"
   ]
  },
  {
   "cell_type": "code",
   "execution_count": 9,
   "id": "289e94bb-46b1-46e9-afd6-ed2368c9a34f",
   "metadata": {},
   "outputs": [
    {
     "data": {
      "text/html": [
       "<div>\n",
       "<style scoped>\n",
       "    .dataframe tbody tr th:only-of-type {\n",
       "        vertical-align: middle;\n",
       "    }\n",
       "\n",
       "    .dataframe tbody tr th {\n",
       "        vertical-align: top;\n",
       "    }\n",
       "\n",
       "    .dataframe thead th {\n",
       "        text-align: right;\n",
       "    }\n",
       "</style>\n",
       "<table border=\"1\" class=\"dataframe\">\n",
       "  <thead>\n",
       "    <tr style=\"text-align: right;\">\n",
       "      <th></th>\n",
       "      <th>SepalLengthCm</th>\n",
       "      <th>SepalWidthCm</th>\n",
       "      <th>PetalLengthCm</th>\n",
       "      <th>PetalWidthCm</th>\n",
       "      <th>Species</th>\n",
       "      <th>Species1</th>\n",
       "    </tr>\n",
       "  </thead>\n",
       "  <tbody>\n",
       "    <tr>\n",
       "      <th>0</th>\n",
       "      <td>5.1</td>\n",
       "      <td>3.5</td>\n",
       "      <td>1.4</td>\n",
       "      <td>0.2</td>\n",
       "      <td>Iris-setosa</td>\n",
       "      <td>0</td>\n",
       "    </tr>\n",
       "    <tr>\n",
       "      <th>1</th>\n",
       "      <td>4.9</td>\n",
       "      <td>3.0</td>\n",
       "      <td>1.4</td>\n",
       "      <td>0.2</td>\n",
       "      <td>Iris-setosa</td>\n",
       "      <td>0</td>\n",
       "    </tr>\n",
       "    <tr>\n",
       "      <th>2</th>\n",
       "      <td>4.7</td>\n",
       "      <td>3.2</td>\n",
       "      <td>1.3</td>\n",
       "      <td>0.2</td>\n",
       "      <td>Iris-setosa</td>\n",
       "      <td>0</td>\n",
       "    </tr>\n",
       "    <tr>\n",
       "      <th>3</th>\n",
       "      <td>4.6</td>\n",
       "      <td>3.1</td>\n",
       "      <td>1.5</td>\n",
       "      <td>0.2</td>\n",
       "      <td>Iris-setosa</td>\n",
       "      <td>0</td>\n",
       "    </tr>\n",
       "    <tr>\n",
       "      <th>4</th>\n",
       "      <td>5.0</td>\n",
       "      <td>3.6</td>\n",
       "      <td>1.4</td>\n",
       "      <td>0.2</td>\n",
       "      <td>Iris-setosa</td>\n",
       "      <td>0</td>\n",
       "    </tr>\n",
       "    <tr>\n",
       "      <th>...</th>\n",
       "      <td>...</td>\n",
       "      <td>...</td>\n",
       "      <td>...</td>\n",
       "      <td>...</td>\n",
       "      <td>...</td>\n",
       "      <td>...</td>\n",
       "    </tr>\n",
       "    <tr>\n",
       "      <th>145</th>\n",
       "      <td>6.7</td>\n",
       "      <td>3.0</td>\n",
       "      <td>5.2</td>\n",
       "      <td>2.3</td>\n",
       "      <td>Iris-virginica</td>\n",
       "      <td>2</td>\n",
       "    </tr>\n",
       "    <tr>\n",
       "      <th>146</th>\n",
       "      <td>6.3</td>\n",
       "      <td>2.5</td>\n",
       "      <td>5.0</td>\n",
       "      <td>1.9</td>\n",
       "      <td>Iris-virginica</td>\n",
       "      <td>2</td>\n",
       "    </tr>\n",
       "    <tr>\n",
       "      <th>147</th>\n",
       "      <td>6.5</td>\n",
       "      <td>3.0</td>\n",
       "      <td>5.2</td>\n",
       "      <td>2.0</td>\n",
       "      <td>Iris-virginica</td>\n",
       "      <td>2</td>\n",
       "    </tr>\n",
       "    <tr>\n",
       "      <th>148</th>\n",
       "      <td>6.2</td>\n",
       "      <td>3.4</td>\n",
       "      <td>5.4</td>\n",
       "      <td>2.3</td>\n",
       "      <td>Iris-virginica</td>\n",
       "      <td>2</td>\n",
       "    </tr>\n",
       "    <tr>\n",
       "      <th>149</th>\n",
       "      <td>5.9</td>\n",
       "      <td>3.0</td>\n",
       "      <td>5.1</td>\n",
       "      <td>1.8</td>\n",
       "      <td>Iris-virginica</td>\n",
       "      <td>2</td>\n",
       "    </tr>\n",
       "  </tbody>\n",
       "</table>\n",
       "<p>150 rows × 6 columns</p>\n",
       "</div>"
      ],
      "text/plain": [
       "     SepalLengthCm  SepalWidthCm  PetalLengthCm  PetalWidthCm         Species  \\\n",
       "0              5.1           3.5            1.4           0.2     Iris-setosa   \n",
       "1              4.9           3.0            1.4           0.2     Iris-setosa   \n",
       "2              4.7           3.2            1.3           0.2     Iris-setosa   \n",
       "3              4.6           3.1            1.5           0.2     Iris-setosa   \n",
       "4              5.0           3.6            1.4           0.2     Iris-setosa   \n",
       "..             ...           ...            ...           ...             ...   \n",
       "145            6.7           3.0            5.2           2.3  Iris-virginica   \n",
       "146            6.3           2.5            5.0           1.9  Iris-virginica   \n",
       "147            6.5           3.0            5.2           2.0  Iris-virginica   \n",
       "148            6.2           3.4            5.4           2.3  Iris-virginica   \n",
       "149            5.9           3.0            5.1           1.8  Iris-virginica   \n",
       "\n",
       "     Species1  \n",
       "0           0  \n",
       "1           0  \n",
       "2           0  \n",
       "3           0  \n",
       "4           0  \n",
       "..        ...  \n",
       "145         2  \n",
       "146         2  \n",
       "147         2  \n",
       "148         2  \n",
       "149         2  \n",
       "\n",
       "[150 rows x 6 columns]"
      ]
     },
     "execution_count": 9,
     "metadata": {},
     "output_type": "execute_result"
    }
   ],
   "source": [
    "label_encoder = preprocessing.LabelEncoder() \n",
    "df['Species1']= label_encoder.fit_transform(df['Species1']) \n",
    "df"
   ]
  },
  {
   "cell_type": "code",
   "execution_count": 10,
   "id": "8cbc2a85-4b51-4bb5-80e9-3acdc129c6ec",
   "metadata": {},
   "outputs": [
    {
     "data": {
      "text/html": [
       "<div>\n",
       "<style scoped>\n",
       "    .dataframe tbody tr th:only-of-type {\n",
       "        vertical-align: middle;\n",
       "    }\n",
       "\n",
       "    .dataframe tbody tr th {\n",
       "        vertical-align: top;\n",
       "    }\n",
       "\n",
       "    .dataframe thead th {\n",
       "        text-align: right;\n",
       "    }\n",
       "</style>\n",
       "<table border=\"1\" class=\"dataframe\">\n",
       "  <thead>\n",
       "    <tr style=\"text-align: right;\">\n",
       "      <th></th>\n",
       "      <th>SepalLengthCm</th>\n",
       "      <th>SepalWidthCm</th>\n",
       "      <th>PetalLengthCm</th>\n",
       "      <th>PetalWidthCm</th>\n",
       "      <th>Species</th>\n",
       "      <th>Species1</th>\n",
       "    </tr>\n",
       "  </thead>\n",
       "  <tbody>\n",
       "    <tr>\n",
       "      <th>145</th>\n",
       "      <td>6.7</td>\n",
       "      <td>3.0</td>\n",
       "      <td>5.2</td>\n",
       "      <td>2.3</td>\n",
       "      <td>Iris-virginica</td>\n",
       "      <td>1</td>\n",
       "    </tr>\n",
       "    <tr>\n",
       "      <th>146</th>\n",
       "      <td>6.3</td>\n",
       "      <td>2.5</td>\n",
       "      <td>5.0</td>\n",
       "      <td>1.9</td>\n",
       "      <td>Iris-virginica</td>\n",
       "      <td>1</td>\n",
       "    </tr>\n",
       "    <tr>\n",
       "      <th>147</th>\n",
       "      <td>6.5</td>\n",
       "      <td>3.0</td>\n",
       "      <td>5.2</td>\n",
       "      <td>2.0</td>\n",
       "      <td>Iris-virginica</td>\n",
       "      <td>1</td>\n",
       "    </tr>\n",
       "    <tr>\n",
       "      <th>148</th>\n",
       "      <td>6.2</td>\n",
       "      <td>3.4</td>\n",
       "      <td>5.4</td>\n",
       "      <td>2.3</td>\n",
       "      <td>Iris-virginica</td>\n",
       "      <td>1</td>\n",
       "    </tr>\n",
       "    <tr>\n",
       "      <th>149</th>\n",
       "      <td>5.9</td>\n",
       "      <td>3.0</td>\n",
       "      <td>5.1</td>\n",
       "      <td>1.8</td>\n",
       "      <td>Iris-virginica</td>\n",
       "      <td>1</td>\n",
       "    </tr>\n",
       "  </tbody>\n",
       "</table>\n",
       "</div>"
      ],
      "text/plain": [
       "     SepalLengthCm  SepalWidthCm  PetalLengthCm  PetalWidthCm         Species  \\\n",
       "145            6.7           3.0            5.2           2.3  Iris-virginica   \n",
       "146            6.3           2.5            5.0           1.9  Iris-virginica   \n",
       "147            6.5           3.0            5.2           2.0  Iris-virginica   \n",
       "148            6.2           3.4            5.4           2.3  Iris-virginica   \n",
       "149            5.9           3.0            5.1           1.8  Iris-virginica   \n",
       "\n",
       "     Species1  \n",
       "145         1  \n",
       "146         1  \n",
       "147         1  \n",
       "148         1  \n",
       "149         1  "
      ]
     },
     "execution_count": 10,
     "metadata": {},
     "output_type": "execute_result"
    }
   ],
   "source": [
    "#setosa = 0 but virginica must be corrected to =1\n",
    "df.loc[df['Species1']==2, 'Species1'] =1\n",
    "df.tail()"
   ]
  },
  {
   "cell_type": "markdown",
   "id": "490516a7-4585-4b57-b83b-ed3ae1e5ed59",
   "metadata": {},
   "source": [
    "* split the data into a training and test set\n"
   ]
  },
  {
   "cell_type": "code",
   "execution_count": 11,
   "id": "c46a9404-62a2-4ad3-9351-2785ec3c4698",
   "metadata": {},
   "outputs": [
    {
     "name": "stdout",
     "output_type": "stream",
     "text": [
      "Training data: (90, 4) (90,)\n",
      "Test data: (60, 4) (60,)\n"
     ]
    }
   ],
   "source": [
    "X = df.iloc[:,[0,1,2,3]].values\n",
    "y = df.iloc[:,5].values\n",
    "\n",
    "X_train, X_test, y_train, y_test = train_test_split(X, y, test_size=0.4, random_state=0, shuffle=True, stratify=y)\n",
    "\n",
    "print (\"Training data:\",X_train.shape, y_train.shape)\n",
    "print (\"Test data:\",X_test.shape, y_test.shape)"
   ]
  },
  {
   "cell_type": "markdown",
   "id": "c80c3a02-a09f-4ad7-ab48-492522c63928",
   "metadata": {},
   "source": [
    "* use **sklearn**'s logistic regression function to fit a model and make predictions on the test set"
   ]
  },
  {
   "cell_type": "code",
   "execution_count": 12,
   "id": "28c20d23-5e30-4d55-9b59-ea22ed9c2717",
   "metadata": {},
   "outputs": [],
   "source": [
    "# fit a model\n",
    "lr = LogisticRegression()\n",
    "lr.fit(X_train, y_train)\n",
    "\n",
    "# make predictions on test data\n",
    "y_pred = lr.predict(X_test).reshape(-1,1)"
   ]
  },
  {
   "cell_type": "markdown",
   "id": "d7088de6-3772-4f2b-accf-59c449206b17",
   "metadata": {},
   "source": [
    "* use **sklearn** to generate a confusion matrix, which compares the predicted labels to the actual labels (gold labels)"
   ]
  },
  {
   "cell_type": "code",
   "execution_count": 13,
   "id": "802f76cf-02f9-4632-8ed3-bc329fcb4521",
   "metadata": {},
   "outputs": [
    {
     "data": {
      "text/html": [
       "<div>\n",
       "<style scoped>\n",
       "    .dataframe tbody tr th:only-of-type {\n",
       "        vertical-align: middle;\n",
       "    }\n",
       "\n",
       "    .dataframe tbody tr th {\n",
       "        vertical-align: top;\n",
       "    }\n",
       "\n",
       "    .dataframe thead th {\n",
       "        text-align: right;\n",
       "    }\n",
       "</style>\n",
       "<table border=\"1\" class=\"dataframe\">\n",
       "  <thead>\n",
       "    <tr style=\"text-align: right;\">\n",
       "      <th></th>\n",
       "      <th>Iris-setosa</th>\n",
       "      <th>not-Iris-setosa</th>\n",
       "    </tr>\n",
       "  </thead>\n",
       "  <tbody>\n",
       "    <tr>\n",
       "      <th>Iris-setosa</th>\n",
       "      <td>20</td>\n",
       "      <td>0</td>\n",
       "    </tr>\n",
       "    <tr>\n",
       "      <th>not-Iris-setosa</th>\n",
       "      <td>0</td>\n",
       "      <td>40</td>\n",
       "    </tr>\n",
       "  </tbody>\n",
       "</table>\n",
       "</div>"
      ],
      "text/plain": [
       "                 Iris-setosa  not-Iris-setosa\n",
       "Iris-setosa               20                0\n",
       "not-Iris-setosa            0               40"
      ]
     },
     "execution_count": 13,
     "metadata": {},
     "output_type": "execute_result"
    }
   ],
   "source": [
    "from sklearn.metrics import confusion_matrix\n",
    "\n",
    "classes = ('Iris-setosa','not-Iris-setosa')\n",
    "conf_mat = confusion_matrix(y_test, y_pred)\n",
    "cm_df = pd.DataFrame(conf_mat, columns=classes, index=classes)\n",
    "cm_df"
   ]
  },
  {
   "cell_type": "markdown",
   "id": "11d47ade-da85-491d-ad43-7a46c300d339",
   "metadata": {},
   "source": [
    "* Analyses the confusion matrix and provide a prediction, in a comment, on whether the model is likely to have higher precision, higher recall, or similar precision and recall"
   ]
  },
  {
   "cell_type": "code",
   "execution_count": 14,
   "id": "a61bac51-8df9-4dc2-bf7a-65dfd155c9ab",
   "metadata": {},
   "outputs": [],
   "source": [
    "# comment: no false positives or negatives appear to have occured, similar precision and recall expected"
   ]
  },
  {
   "cell_type": "markdown",
   "id": "f97627f1-29c6-432d-b9fc-faa5e5cf0aa5",
   "metadata": {},
   "source": [
    "* Write your *own code* to calculate the accuracy, precision, and recall, and check whether your prediction was right"
   ]
  },
  {
   "cell_type": "code",
   "execution_count": null,
   "id": "b0c4d0ef-a384-4d9a-8246-47bb3ce055b6",
   "metadata": {},
   "outputs": [],
   "source": []
  },
  {
   "cell_type": "code",
   "execution_count": 25,
   "id": "b54361c9-5172-4118-b6eb-5f6d77e648d1",
   "metadata": {},
   "outputs": [],
   "source": [
    "tp = int(cm_df.iat [0, 0])\n",
    "fp = int(cm_df.iat [0, 1])\n",
    "fn = int(cm_df.iat [1, 0])\n",
    "tn = int(cm_df.iat [1, 1])"
   ]
  },
  {
   "cell_type": "markdown",
   "id": "9c82ea8d-8b34-485c-9cbb-32815f79dbf6",
   "metadata": {},
   "source": [
    " > > > > TruePositive + TrueNegative <br>\n",
    "\n",
    "Accuracy =  <br>\n",
    "> > *** \n",
    "> >   TruePositive + FalseNegative + TrueNegative + FalsePositive"
   ]
  },
  {
   "cell_type": "code",
   "execution_count": 29,
   "id": "707f39aa-a12f-4366-946f-f8f800fe1383",
   "metadata": {},
   "outputs": [
    {
     "name": "stdout",
     "output_type": "stream",
     "text": [
      "Accuracy Score: 1.0\n"
     ]
    }
   ],
   "source": [
    "accuracy = (tp + tn)/ (tp + fp + fn + tn)\n",
    "print ('Accuracy Score:', accuracy)"
   ]
  },
  {
   "cell_type": "markdown",
   "id": "83c21f12-fa4f-40bb-9264-98a9548ac2ba",
   "metadata": {},
   "source": [
    "Precision = TruePositive\n",
    "> > ***\n",
    "           TruePositive + FalsePositive"
   ]
  },
  {
   "cell_type": "code",
   "execution_count": 31,
   "id": "53a8837f-e756-4615-9530-32eb1bbbfc6d",
   "metadata": {},
   "outputs": [
    {
     "name": "stdout",
     "output_type": "stream",
     "text": [
      "Precision Score: 1.0\n"
     ]
    }
   ],
   "source": [
    "precision = tp / (tp+fp)\n",
    "print ('Precision Score:', precision)"
   ]
  },
  {
   "cell_type": "markdown",
   "id": "5e2c97fe-7ddc-441b-af8d-3281de8c8465",
   "metadata": {},
   "source": [
    "Recall =       TruePositive\n",
    "           -------------------------------\n",
    "           TruePositive + FalseNegative"
   ]
  },
  {
   "cell_type": "code",
   "execution_count": 32,
   "id": "293e23c4-e659-456f-97b4-b74976009891",
   "metadata": {},
   "outputs": [
    {
     "name": "stdout",
     "output_type": "stream",
     "text": [
      "Recall Score: 1.0\n"
     ]
    }
   ],
   "source": [
    "recall = tp / (tp+fn)\n",
    "print ('Recall Score:', recall)"
   ]
  },
  {
   "cell_type": "code",
   "execution_count": null,
   "id": "a4b1d1b1-64ac-4330-b758-6c91b3c0be51",
   "metadata": {},
   "outputs": [],
   "source": [
    "# comment: similar precision and recall found"
   ]
  },
  {
   "cell_type": "markdown",
   "id": "772b5901-988a-4a00-a0cd-584380cffb9a",
   "metadata": {},
   "source": [
    "(**Optional**) Repeat this task but change it so that we only have all three categories **'Iris-setosa','Iris-versicolour'** and **'Iris-virginica'** corresponding to the numeric values 0, 1, and 3 respectivly; this will now be a three-class problem. Observe how this changes the confusion matrix. "
   ]
  },
  {
   "cell_type": "code",
   "execution_count": null,
   "id": "62b35cee-353b-4672-9725-20130515a92d",
   "metadata": {},
   "outputs": [],
   "source": [
    "df = df.drop(columns = ['Species1'])"
   ]
  },
  {
   "cell_type": "code",
   "execution_count": null,
   "id": "11ca2cf1-97b9-4962-98f2-6e2ee355b1b9",
   "metadata": {},
   "outputs": [],
   "source": [
    "df['Species2'] = df.loc[:, 'Species']"
   ]
  },
  {
   "cell_type": "code",
   "execution_count": null,
   "id": "281855cf-6abf-4793-9b4f-5d1a6aefd096",
   "metadata": {},
   "outputs": [],
   "source": [
    "label_encoder2 = preprocessing.LabelEncoder() \n",
    "df['Species2']= label_encoder2.fit_transform(df['Species2']) \n",
    "df"
   ]
  },
  {
   "cell_type": "code",
   "execution_count": null,
   "id": "0d378f26-83d6-4f71-bd52-3321e1028c82",
   "metadata": {},
   "outputs": [],
   "source": [
    "X2 = df.iloc[:,[0,1,2,3]].values\n",
    "y2 = df.iloc[:,5].values\n",
    "\n",
    "X2_train, X2_test, y2_train, y2_test = train_test_split(X2, y2, test_size=0.4, random_state=0, shuffle=True, stratify=y)\n",
    "\n",
    "print (\"Training data:\",X2_train.shape, y2_train.shape)\n",
    "print (\"Test data:\",X2_test.shape, y2_test.shape)"
   ]
  },
  {
   "cell_type": "code",
   "execution_count": null,
   "id": "1dd03c12-6c7c-4f39-88a9-8b3fb1be1c1f",
   "metadata": {},
   "outputs": [],
   "source": [
    "lr2 = LogisticRegression()\n",
    "lr2.fit(X2_train, y2_train)\n",
    "\n",
    "y2_pred = lr2.predict(X2_test).reshape(-1,1)"
   ]
  },
  {
   "cell_type": "code",
   "execution_count": null,
   "id": "bc31b3c1-a59a-4e4f-a00f-7082b90cd38b",
   "metadata": {},
   "outputs": [],
   "source": [
    "from sklearn.metrics import confusion_matrix\n",
    "\n",
    "classes2 = ('Iris-setosa','Iris-versicolour','Iris-virginica')\n",
    "conf_mat2 = confusion_matrix(y_test, y_pred)\n",
    "cm_df2 = pd.DataFrame(conf_mat2, columns=classes2, index=classes2)\n",
    "cm_df2"
   ]
  },
  {
   "cell_type": "code",
   "execution_count": null,
   "id": "1ebdb04f-162a-46ab-bd11-cda2a47aa2e0",
   "metadata": {},
   "outputs": [],
   "source": [
    "ps2a = precision_score(y2_test == classes.index('Iris-setosa'), y2_pred== classes.index('Iris-setosa'))\n",
    "ps2b = precision_score(y2_test == classes.index('Iris-versicolour'), y2_pred== classes.index('Iris-versicolour'))\n",
    "ps2c = precision_score(y2_test == classes.index('Iris-virginica'), y2_pred== classes.index('Iris-virginica'))\n",
    "                       \n",
    "print('Precision Score:', '\\n Iris Setosa:', ps2a, '\\n Iris Versicolour:', ps2b, '\\n Iris Virginica:', ps2c,)"
   ]
  },
  {
   "cell_type": "code",
   "execution_count": null,
   "id": "0cfc6558-141b-4979-8beb-2669dd7c8911",
   "metadata": {},
   "outputs": [],
   "source": [
    "rs2a = recall_score(y2_test == classes.index('Iris-setosa'), y2_pred== classes.index('Iris-setosa'))\n",
    "rs2b = recall_score(y2_test == classes.index('Iris-versicolour'), y2_pred== classes.index('Iris-versicolour'))\n",
    "rs2c = recall_score(y2_test == classes.index('Iris-virginica'), y2_pred== classes.index('Iris-virginica'))\n",
    "                       \n",
    "print('Recall Score:', '\\n Iris Setosa:', rs2a, '\\n Iris Versicolour:', rs2b, '\\n Iris Virginica:', rs2c,)"
   ]
  },
  {
   "cell_type": "markdown",
   "id": "546c635e-47a6-4d40-a7a1-7654221561c2",
   "metadata": {},
   "source": [
    "comments: The program has greater difficulty seperating Iris Versicolour from Iris Virginica. This causes innaccuracy visible in the confusion matrix and in the precisionand recall scores. "
   ]
  }
 ],
 "metadata": {
  "kernelspec": {
   "display_name": "Python 3 (ipykernel)",
   "language": "python",
   "name": "python3"
  },
  "language_info": {
   "codemirror_mode": {
    "name": "ipython",
    "version": 3
   },
   "file_extension": ".py",
   "mimetype": "text/x-python",
   "name": "python",
   "nbconvert_exporter": "python",
   "pygments_lexer": "ipython3",
   "version": "3.12.2"
  }
 },
 "nbformat": 4,
 "nbformat_minor": 5
}
